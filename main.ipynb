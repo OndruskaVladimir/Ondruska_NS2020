{
 "cells": [
  {
   "cell_type": "markdown",
   "metadata": {},
   "source": [
    "# Importy"
   ]
  },
  {
   "cell_type": "code",
   "execution_count": 1,
   "metadata": {},
   "outputs": [],
   "source": [
    "import numpy as np\n",
    "import matplotlib.pyplot as plt\n",
    "%matplotlib inline\n",
    "import keras\n",
    "from keras.models import Sequential\n",
    "from keras.layers import Dense, Dropout\n",
    "from sklearn.metrics import confusion_matrix\n",
    "import seaborn as sns\n",
    "\n",
    "#random seed dovoľuje numpy generovať pseudo náhodné hodnoty.\n",
    "np.random.seed(0)"
   ]
  },
  {
   "cell_type": "markdown",
   "metadata": {},
   "source": [
    "# Dataset (MNIST)"
   ]
  },
  {
   "cell_type": "code",
   "execution_count": 2,
   "metadata": {},
   "outputs": [],
   "source": [
    "from keras.datasets import mnist\n",
    "#načítanie datasetu mnist do premenných z databázy Keras\n",
    "(x_train, y_train), (x_test, y_test) = mnist.load_data()"
   ]
  },
  {
   "cell_type": "code",
   "execution_count": 3,
   "metadata": {},
   "outputs": [
    {
     "name": "stdout",
     "output_type": "stream",
     "text": [
      "(60000, 28, 28) (60000,)\n",
      "(10000, 28, 28) (10000,)\n"
     ]
    }
   ],
   "source": [
    "#výpis dimenzií jednotlivých premenných pre kontrolu správnosti načítania datasetu\n",
    "#máme 60000 obrázkov číslic 28x28 a 60000 labelov v trénovacej množine\n",
    "# a v testovacej máme 10000 hodnôt\n",
    "print(x_train.shape, y_train.shape)\n",
    "print(x_test.shape, y_test.shape)"
   ]
  },
  {
   "cell_type": "markdown",
   "metadata": {},
   "source": [
    "# Vizualizovanie datasetu"
   ]
  },
  {
   "cell_type": "code",
   "execution_count": 4,
   "metadata": {},
   "outputs": [
    {
     "data": {
      "image/png": "[encoded data removed]",
      "text/plain": [
       "<Figure size 1440x1440 with 10 Axes>"
      ]
     },
     "metadata": {
      "needs_background": "light"
     },
     "output_type": "display_data"
    }
   ],
   "source": [
    "num_classes = 10 #pre vizualizovanie čísiel 0-9\n",
    "f, ax = plt.subplots(1, num_classes, figsize=(20,20))#1 riadok, num_classes stlpcov a veľkosť grafu je 20x20\n",
    "\n",
    "for i in range(0, num_classes): #0 až 10 (num_classes)\n",
    "  sample = x_train[y_train == i][0] # vyberieme obrázok z x_train kde sa y_train(label) rovná i a vyberieme vždy prvý obrázok\n",
    "  ax[i].imshow(sample, cmap='gray') #zobrazenie obrázku v každom grafe, grayscale\n",
    "  ax[i].set_title(\"Label: {}\".format(i), fontsize=16) #zobrazenie labelu nad každým grafom s prislúchajúcou hodnotou"
   ]
  },
  {
   "cell_type": "code",
   "execution_count": 5,
   "metadata": {},
   "outputs": [
    {
     "name": "stdout",
     "output_type": "stream",
     "text": [
      "5\n",
      "0\n",
      "4\n",
      "1\n",
      "9\n",
      "2\n",
      "1\n",
      "3\n",
      "1\n",
      "4\n"
     ]
    }
   ],
   "source": [
    "#vypis labelov\n",
    "for i in range(10):\n",
    "    print(y_train[i])"
   ]
  },
  {
   "cell_type": "markdown",
   "metadata": {},
   "source": [
    "Pre klasifikovanie číslic musíme zmeniť labely z čísiel na samostatné classy, pretože ak by nejaká hodnota bola klasifikaná ako niečo medzi 4 a 5 tak label by bol 4,5 ale my chceme vidieť ku ktorej hodnote sa to najviac blíži."
   ]
  },
  {
   "cell_type": "code",
   "execution_count": 6,
   "metadata": {},
   "outputs": [],
   "source": [
    "#konvertovaie labelov z celých čisiel na binárnu maticu pre presné klasifikovanie\n",
    "y_train = keras.utils.to_categorical(y_train, num_classes)\n",
    "y_test = keras.utils.to_categorical(y_test, num_classes)"
   ]
  },
  {
   "cell_type": "code",
   "execution_count": 7,
   "metadata": {},
   "outputs": [
    {
     "name": "stdout",
     "output_type": "stream",
     "text": [
      "[0. 0. 0. 0. 0. 1. 0. 0. 0. 0.]\n",
      "[1. 0. 0. 0. 0. 0. 0. 0. 0. 0.]\n",
      "[0. 0. 0. 0. 1. 0. 0. 0. 0. 0.]\n",
      "[0. 1. 0. 0. 0. 0. 0. 0. 0. 0.]\n",
      "[0. 0. 0. 0. 0. 0. 0. 0. 0. 1.]\n",
      "[0. 0. 1. 0. 0. 0. 0. 0. 0. 0.]\n",
      "[0. 1. 0. 0. 0. 0. 0. 0. 0. 0.]\n",
      "[0. 0. 0. 1. 0. 0. 0. 0. 0. 0.]\n",
      "[0. 1. 0. 0. 0. 0. 0. 0. 0. 0.]\n",
      "[0. 0. 0. 0. 1. 0. 0. 0. 0. 0.]\n"
     ]
    }
   ],
   "source": [
    "#vypis labelov po konvertovaní \n",
    "for i in range(10):\n",
    "    print(y_train[i])"
   ]
  },
  {
   "cell_type": "markdown",
   "metadata": {},
   "source": [
    "# Príprava datasetu\n",
    "Dáta si najskôr musíme normalizovať aby sa zjednodušili výpočty neurónovej siete a aby boli menšie odchýlky. Moje dáta majú hodnoty od 0 po 255(RGB hodnoty obrázkov), takže trénovacie dáta vydelíme hodnotou 255 aby sme dostali hodnoty od 0 po 1 na miesto hodnôt od 0 po 255"
   ]
  },
  {
   "cell_type": "code",
   "execution_count": 8,
   "metadata": {},
   "outputs": [],
   "source": [
    "#normalizácia hodnôt\n",
    "x_train = x_train / 255.0\n",
    "x_test = x_test / 255.0"
   ]
  },
  {
   "cell_type": "markdown",
   "metadata": {},
   "source": [
    "Potrebujeme pretvarovať dáta, pretože teraz má každý obrázok rozmery 28x28 ale ak ich chceme poslať do neurónovej siete na spracovanie, musíme ich pretvarovať na jeden dlhý vektor(v tomto prípade bude mať veľkosť 784)."
   ]
  },
  {
   "cell_type": "code",
   "execution_count": 9,
   "metadata": {},
   "outputs": [
    {
     "name": "stdout",
     "output_type": "stream",
     "text": [
      "(60000, 784)\n"
     ]
    }
   ],
   "source": [
    "#pretvarovanie dát\n",
    "x_train = x_train.reshape(x_train.shape[0], -1)\n",
    "x_test = x_test.reshape(x_test.shape[0], -1)\n",
    "print(x_train.shape)"
   ]
  },
  {
   "cell_type": "markdown",
   "metadata": {},
   "source": [
    "# Vytvorenie modelu plne prepojenej neurónovej siete"
   ]
  },
  {
   "cell_type": "code",
   "execution_count": 10,
   "metadata": {},
   "outputs": [
    {
     "name": "stdout",
     "output_type": "stream",
     "text": [
      "Model: \"sequential\"\n",
      "_________________________________________________________________\n",
      "Layer (type)                 Output Shape              Param #   \n",
      "=================================================================\n",
      "dense (Dense)                (None, 128)               100480    \n",
      "_________________________________________________________________\n",
      "dense_1 (Dense)              (None, 128)               16512     \n",
      "_________________________________________________________________\n",
      "dropout (Dropout)            (None, 128)               0         \n",
      "_________________________________________________________________\n",
      "dense_2 (Dense)              (None, 10)                1290      \n",
      "=================================================================\n",
      "Total params: 118,282\n",
      "Trainable params: 118,282\n",
      "Non-trainable params: 0\n",
      "_________________________________________________________________\n"
     ]
    }
   ],
   "source": [
    "model = Sequential()\n",
    "\n",
    "model.add(Dense(units = 128, input_shape = (784,), activation = \"relu\"))\n",
    "model.add(Dense(units = 128, activation=\"relu\"))\n",
    "model.add(Dropout(0.25)) # 25% neurónov bude neaktívnych počas trénovania, \n",
    "model.add(Dense(units=10, activation=\"softmax\"))\n",
    "\n",
    "model.compile(loss='categorical_crossentropy', optimizer='adam', metrics=['accuracy'])\n",
    "model.summary()"
   ]
  },
  {
   "cell_type": "markdown",
   "metadata": {},
   "source": [
    "# Trénovanie neurónovej siete"
   ]
  },
  {
   "cell_type": "code",
   "execution_count": 11,
   "metadata": {},
   "outputs": [
    {
     "name": "stdout",
     "output_type": "stream",
     "text": [
      "Epoch 1/10\n",
      "118/118 [==============================] - 1s 3ms/step - loss: 1.0590 - accuracy: 0.6808\n",
      "Epoch 2/10\n",
      "118/118 [==============================] - 0s 3ms/step - loss: 0.2435 - accuracy: 0.9298\n",
      "Epoch 3/10\n",
      "118/118 [==============================] - 0s 3ms/step - loss: 0.1698 - accuracy: 0.9512\n",
      "Epoch 4/10\n",
      "118/118 [==============================] - 0s 3ms/step - loss: 0.1349 - accuracy: 0.9604\n",
      "Epoch 5/10\n",
      "118/118 [==============================] - 0s 3ms/step - loss: 0.1085 - accuracy: 0.9675\n",
      "Epoch 6/10\n",
      "118/118 [==============================] - 0s 3ms/step - loss: 0.0908 - accuracy: 0.9723\n",
      "Epoch 7/10\n",
      "118/118 [==============================] - 0s 3ms/step - loss: 0.0783 - accuracy: 0.9772\n",
      "Epoch 8/10\n",
      "118/118 [==============================] - 0s 3ms/step - loss: 0.0648 - accuracy: 0.9803\n",
      "Epoch 9/10\n",
      "118/118 [==============================] - 0s 3ms/step - loss: 0.0616 - accuracy: 0.9826\n",
      "Epoch 10/10\n",
      "118/118 [==============================] - 0s 3ms/step - loss: 0.0526 - accuracy: 0.9844\n"
     ]
    }
   ],
   "source": [
    "batch_size = 512 # počet obrázkov, spracovávaných neurónovou sieťou v jednom momente\n",
    "epochs = 10\n",
    "history = model.fit(x=x_train, y=y_train, batch_size=batch_size, epochs=epochs)"
   ]
  },
  {
   "cell_type": "code",
   "execution_count": 12,
   "metadata": {},
   "outputs": [
    {
     "name": "stdout",
     "output_type": "stream",
     "text": [
      "dict_keys(['loss', 'accuracy'])\n"
     ]
    }
   ],
   "source": [
    "print(history.history.keys()) # kľúčové hodnoty z nášho modelu"
   ]
  },
  {
   "cell_type": "code",
   "execution_count": 13,
   "metadata": {},
   "outputs": [
    {
     "data": {
      "image/png": "[encoded data removed]",
      "text/plain": [
       "<Figure size 432x288 with 1 Axes>"
      ]
     },
     "metadata": {
      "needs_background": "light"
     },
     "output_type": "display_data"
    },
    {
     "data": {
      "image/png": "[encoded data removed]",
      "text/plain": [
       "<Figure size 432x288 with 1 Axes>"
      ]
     },
     "metadata": {
      "needs_background": "light"
     },
     "output_type": "display_data"
    }
   ],
   "source": [
    "#graf prenosti trénovacej množiny v našej neurónovej sieti\n",
    "plt.plot(history.history['accuracy'])\n",
    "plt.title('Presnosť trénovacej množiny')\n",
    "plt.ylabel('presnosť')\n",
    "plt.xlabel('epochy')\n",
    "plt.legend(['train'], loc='upper left')\n",
    "plt.show()\n",
    "\n",
    "#graf chybovosti trénovacej množiny v našej neurónovej sieti\n",
    "plt.plot(history.history['loss'])\n",
    "plt.title('Chybovosť trénovacej množiny')\n",
    "plt.ylabel('chybovosť')\n",
    "plt.xlabel('epochy')\n",
    "plt.legend(['train'], loc='upper right')\n",
    "plt.show()"
   ]
  },
  {
   "cell_type": "markdown",
   "metadata": {},
   "source": [
    "# Vyhodnotenie testovacej množiny\n",
    "Na našu natrénovanú neurónovú sieť použijeme testovacie dáta a zistíme, aká presná je naša sieť."
   ]
  },
  {
   "cell_type": "code",
   "execution_count": 14,
   "metadata": {},
   "outputs": [
    {
     "name": "stdout",
     "output_type": "stream",
     "text": [
      "313/313 [==============================] - 0s 381us/step - loss: 0.0723 - accuracy: 0.9788\n",
      "Testovacia chybovosť: 0.07230373471975327, Testovacia presnosť: 0.9787999987602234\n"
     ]
    }
   ],
   "source": [
    "test_loss, test_acc = model.evaluate(x_test, y_test)#výpočet chybovosti a presnosti nášho modelu na základe testovacích dát\n",
    "print(\"Testovacia chybovosť: {}, Testovacia presnosť: {}\".format(test_loss, test_acc))"
   ]
  },
  {
   "cell_type": "code",
   "execution_count": 15,
   "metadata": {},
   "outputs": [
    {
     "name": "stdout",
     "output_type": "stream",
     "text": [
      "[[2.1146714e-06 4.5100041e-06 2.1358252e-04 ... 9.9934143e-01\n",
      "  4.1547391e-06 4.5458141e-06]\n",
      " [3.1336660e-07 3.1860013e-04 9.9955851e-01 ... 3.3573991e-07\n",
      "  9.6923020e-07 4.8535742e-10]\n",
      " [4.4954772e-06 9.9843174e-01 1.9040696e-04 ... 1.0389291e-03\n",
      "  7.9967205e-05 5.4184866e-06]\n",
      " ...\n",
      " [1.7023620e-08 7.9265732e-08 1.3052553e-09 ... 3.0438955e-06\n",
      "  9.1145034e-07 1.8477969e-05]\n",
      " [4.2065915e-09 7.3582606e-07 1.6222271e-10 ... 1.9213958e-07\n",
      "  4.3825335e-06 2.3042659e-09]\n",
      " [1.0508901e-08 2.1314159e-09 6.2228401e-07 ... 2.3532018e-11\n",
      "  6.4392502e-08 9.8273258e-11]]\n",
      "[7 2 1 ... 4 5 6]\n"
     ]
    }
   ],
   "source": [
    "y_pred = model.predict(x_test) # vráti pole, obsahujúce pravdepodnost či každý prvok patrí nejakej triede(0-9)\n",
    "y_pred_classes = np.argmax(y_pred, axis=1) # vráti nám 1D pole hodnôt, ktoré mali najvyššiu pravdepodobnosť, že boli správne\n",
    "# predpovedané\n",
    "print(y_pred)\n",
    "print(y_pred_classes)"
   ]
  },
  {
   "cell_type": "code",
   "execution_count": 42,
   "metadata": {},
   "outputs": [
    {
     "name": "stdout",
     "output_type": "stream",
     "text": [
      "2\n"
     ]
    },
    {
     "data": {
      "text/plain": [
       "<matplotlib.image.AxesImage at 0x201dc8dc040>"
      ]
     },
     "execution_count": 42,
     "metadata": {},
     "output_type": "execute_result"
    },
    {
     "data": {
      "image/png": "[encoded data removed]",
      "text/plain": [
       "<Figure size 432x288 with 1 Axes>"
      ]
     },
     "metadata": {
      "needs_background": "light"
     },
     "output_type": "display_data"
    }
   ],
   "source": [
    "#Príklad na jednej hodnote\n",
    "random_idx = np.random.choice(len(x_test))# výber náhodného indexu z x_test množiny\n",
    "x_sample = x_test[random_idx] # výber hodnoty z test množiny na random_idx indexe(samotný obrázok)\n",
    "y_true = np.argmax(y_test, axis=1) # číslené hodnoty labelov testovacej množiny\n",
    "y_sample_true = y_true[random_idx] #naozajstná hodnota vykreslovanej číslice v grafe\n",
    "y_sample_pred_class = y_pred_classes[random_idx] # predpovedaná hodnota vykreslovanej číslice v grafe\n",
    "\n",
    "plt.title(\"Predicted: {}, True: {}\".format(y_sample_pred_class, y_sample_true), fontsize=16)\n",
    "plt.imshow(x_sample.reshape(28, 28), cmap = 'gray')"
   ]
  },
  {
   "cell_type": "markdown",
   "metadata": {},
   "source": [
    "Graf zobrazujúci koľko krát sme správne klasifikovali číslicu, aj koľko krát sme nesprávne klasifikovali a čo bola tá nesprávna hodnota"
   ]
  },
  {
   "cell_type": "code",
   "execution_count": 44,
   "metadata": {},
   "outputs": [
    {
     "data": {
      "text/plain": [
       "Text(0.5, 1.0, 'Matica zámen')"
      ]
     },
     "execution_count": 44,
     "metadata": {},
     "output_type": "execute_result"
    },
    {
     "data": {
      "image/png": "[encoded data removed]",
      "text/plain": [
       "<Figure size 1080x720 with 2 Axes>"
      ]
     },
     "metadata": {
      "needs_background": "light"
     },
     "output_type": "display_data"
    }
   ],
   "source": [
    "conf_mtx = confusion_matrix(y_true, y_pred_classes)\n",
    "\n",
    "#Plot\n",
    "fig, ax = plt.subplots(figsize = (15, 10))\n",
    "ax = sns.heatmap(conf_mtx, annot=True, fmt='d', ax=ax, cmap=\"Blues\")\n",
    "ax.set_xlabel('Predpovedané')\n",
    "ax.set_ylabel('Skutočné')\n",
    "ax.set_title('Matica zámen')"
   ]
  },
  {
   "cell_type": "code",
   "execution_count": null,
   "metadata": {},
   "outputs": [],
   "source": []
  }
 ],
 "metadata": {
  "kernelspec": {
   "display_name": "Python 3",
   "language": "python",
   "name": "python3"
  },
  "language_info": {
   "codemirror_mode": {
    "name": "ipython",
    "version": 3
   },
   "file_extension": ".py",
   "mimetype": "text/x-python",
   "name": "python",
   "nbconvert_exporter": "python",
   "pygments_lexer": "ipython3",
   "version": "3.8.5"
  }
 },
 "nbformat": 4,
 "nbformat_minor": 4
}
